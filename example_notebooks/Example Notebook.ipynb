{
 "cells": [
  {
   "cell_type": "code",
   "execution_count": 1,
   "id": "9772f479-da0e-494f-bb31-d433cb6db2b0",
   "metadata": {},
   "outputs": [
    {
     "data": {
      "text/html": [
       "\n",
       "                <script type=\"application/javascript\" id=\"jupyter_black\">\n",
       "                (function() {\n",
       "                    if (window.IPython === undefined) {\n",
       "                        return\n",
       "                    }\n",
       "                    var msg = \"WARNING: it looks like you might have loaded \" +\n",
       "                        \"jupyter_black in a non-lab notebook with \" +\n",
       "                        \"`is_lab=True`. Please double check, and if \" +\n",
       "                        \"loading with `%load_ext` please review the README!\"\n",
       "                    console.log(msg)\n",
       "                    alert(msg)\n",
       "                })()\n",
       "                </script>\n",
       "                "
      ],
      "text/plain": [
       "<IPython.core.display.HTML object>"
      ]
     },
     "metadata": {},
     "output_type": "display_data"
    }
   ],
   "source": [
    "import pandas as pd\n",
    "import time\n",
    "import pyprevent\n",
    "import jupyter_black\n",
    "import numpy as np\n",
    "\n",
    "jupyter_black.load(lab=True)"
   ]
  },
  {
   "cell_type": "markdown",
   "id": "77220b47-4890-42d7-b4dd-d1ccd0e5794a",
   "metadata": {},
   "source": [
    "## Data Setup"
   ]
  },
  {
   "cell_type": "code",
   "execution_count": 2,
   "id": "c2f676dd-48e7-413d-95f0-0ece2fb693f2",
   "metadata": {},
   "outputs": [],
   "source": [
    "test_patient = (\"female\", 40, 200, 50, 120, True, True, 25, 70, True, True)\n",
    "test_list = [test_patient for _ in range(10_000_000)]\n",
    "df = pd.DataFrame(\n",
    "    test_list,\n",
    "    columns=[\n",
    "        \"sex\",\n",
    "        \"age\",\n",
    "        \"total_cholesterol\",\n",
    "        \"hdl_cholesterol\",\n",
    "        \"systolic_bp\",\n",
    "        \"has_diabetes\",\n",
    "        \"current_smoker\",\n",
    "        \"bmi\",\n",
    "        \"egfr\",\n",
    "        \"on_htn_meds\",\n",
    "        \"on_cholesterol_meds\",\n",
    "    ],\n",
    ")"
   ]
  },
  {
   "cell_type": "code",
   "execution_count": 3,
   "id": "3300c829-4bbc-4fd2-8745-5b19161ea29e",
   "metadata": {},
   "outputs": [
    {
     "data": {
      "text/plain": [
       "{'sex': 'female',\n",
       " 'age': 40,\n",
       " 'total_cholesterol': 200,\n",
       " 'hdl_cholesterol': 50,\n",
       " 'systolic_bp': 120,\n",
       " 'has_diabetes': True,\n",
       " 'current_smoker': True,\n",
       " 'bmi': 25,\n",
       " 'egfr': 70,\n",
       " 'on_htn_meds': True,\n",
       " 'on_cholesterol_meds': True}"
      ]
     },
     "execution_count": 3,
     "metadata": {},
     "output_type": "execute_result"
    }
   ],
   "source": [
    "df.iloc[0].to_dict()"
   ]
  },
  {
   "cell_type": "markdown",
   "id": "a485b68b-45ac-4d09-a212-df7fa41fea63",
   "metadata": {},
   "source": [
    "## Individual patient calculations\n",
    "\n",
    "Taking the first row in the form of a dict, we have a test patient.\n",
    "\n",
    "The keys of this dictionary are the input arguments for all of the functions.\n",
    "\n",
    "Here, we can pass the dictionary as kwargs to return the risk. Of note this float represents the risk as a percentage."
   ]
  },
  {
   "cell_type": "code",
   "execution_count": 4,
   "id": "2574f72d-97e1-4e25-81c0-2c251149d4f3",
   "metadata": {},
   "outputs": [
    {
     "data": {
      "text/plain": [
       "4.723678963112583"
      ]
     },
     "execution_count": 4,
     "metadata": {},
     "output_type": "execute_result"
    }
   ],
   "source": [
    "pyprevent.calculate_10_yr_ascvd_risk(**df.iloc[0].to_dict())"
   ]
  },
  {
   "cell_type": "markdown",
   "id": "21874bcc-8e89-4ae3-94e6-b448d93462ab",
   "metadata": {},
   "source": [
    "(You can also pass in the arguments like a normal python function)"
   ]
  },
  {
   "cell_type": "code",
   "execution_count": 5,
   "id": "c4d60014-6770-4a86-934f-d051698d6ee7",
   "metadata": {},
   "outputs": [
    {
     "data": {
      "text/plain": [
       "7.008061525002453"
      ]
     },
     "execution_count": 5,
     "metadata": {},
     "output_type": "execute_result"
    }
   ],
   "source": [
    "pyprevent.calculate_30_yr_ascvd_risk(\n",
    "    sex=\"MALE\",\n",
    "    age=40,\n",
    "    total_cholesterol=200,\n",
    "    hdl_cholesterol=50,\n",
    "    systolic_bp=120,\n",
    "    has_diabetes=False,\n",
    "    current_smoker=False,\n",
    "    bmi=25,\n",
    "    egfr=70,\n",
    "    on_htn_meds=False,\n",
    "    on_cholesterol_meds=False,\n",
    ")"
   ]
  },
  {
   "cell_type": "markdown",
   "id": "f83c49be-4e40-477c-b3fb-92d7215bb30b",
   "metadata": {},
   "source": [
    "All of the inputs have constains, and will return an error if the values are outside of the acceptable range.\n",
    "\n",
    "These ranges are set by the AHA PREVENT formulas to constain any extrapolation at extreme values."
   ]
  },
  {
   "cell_type": "code",
   "execution_count": 6,
   "id": "4ee0db2e-251a-4b7f-b138-90f9b69cb7c3",
   "metadata": {},
   "outputs": [
    {
     "ename": "ValueError",
     "evalue": "Sex must be either 'male' or 'female'.",
     "output_type": "error",
     "traceback": [
      "\u001b[0;31m---------------------------------------------------------------------------\u001b[0m",
      "\u001b[0;31mValueError\u001b[0m                                Traceback (most recent call last)",
      "Cell \u001b[0;32mIn[6], line 1\u001b[0m\n\u001b[0;32m----> 1\u001b[0m \u001b[43mpyprevent\u001b[49m\u001b[38;5;241;43m.\u001b[39;49m\u001b[43mcalculate_30_yr_ascvd_risk\u001b[49m\u001b[43m(\u001b[49m\n\u001b[1;32m      2\u001b[0m \u001b[43m    \u001b[49m\n\u001b[1;32m      3\u001b[0m \u001b[43m    \u001b[49m\u001b[43msex\u001b[49m\u001b[38;5;241;43m=\u001b[39;49m\u001b[38;5;124;43m\"\u001b[39;49m\u001b[38;5;124;43munknown\u001b[39;49m\u001b[38;5;124;43m\"\u001b[39;49m\u001b[43m,\u001b[49m\n\u001b[1;32m      4\u001b[0m \n\u001b[1;32m      5\u001b[0m \u001b[43m    \u001b[49m\n\u001b[1;32m      6\u001b[0m \u001b[43m    \u001b[49m\u001b[43mage\u001b[49m\u001b[38;5;241;43m=\u001b[39;49m\u001b[38;5;241;43m40\u001b[39;49m\u001b[43m,\u001b[49m\n\u001b[1;32m      7\u001b[0m \u001b[43m    \u001b[49m\u001b[43mtotal_cholesterol\u001b[49m\u001b[38;5;241;43m=\u001b[39;49m\u001b[38;5;241;43m200\u001b[39;49m\u001b[43m,\u001b[49m\n\u001b[1;32m      8\u001b[0m \u001b[43m    \u001b[49m\u001b[43mhdl_cholesterol\u001b[49m\u001b[38;5;241;43m=\u001b[39;49m\u001b[38;5;241;43m50\u001b[39;49m\u001b[43m,\u001b[49m\n\u001b[1;32m      9\u001b[0m \u001b[43m    \u001b[49m\u001b[43msystolic_bp\u001b[49m\u001b[38;5;241;43m=\u001b[39;49m\u001b[38;5;241;43m120\u001b[39;49m\u001b[43m,\u001b[49m\n\u001b[1;32m     10\u001b[0m \u001b[43m    \u001b[49m\u001b[43mhas_diabetes\u001b[49m\u001b[38;5;241;43m=\u001b[39;49m\u001b[38;5;28;43;01mFalse\u001b[39;49;00m\u001b[43m,\u001b[49m\n\u001b[1;32m     11\u001b[0m \u001b[43m    \u001b[49m\u001b[43mcurrent_smoker\u001b[49m\u001b[38;5;241;43m=\u001b[39;49m\u001b[38;5;28;43;01mFalse\u001b[39;49;00m\u001b[43m,\u001b[49m\n\u001b[1;32m     12\u001b[0m \u001b[43m    \u001b[49m\u001b[43mbmi\u001b[49m\u001b[38;5;241;43m=\u001b[39;49m\u001b[38;5;241;43m25\u001b[39;49m\u001b[43m,\u001b[49m\n\u001b[1;32m     13\u001b[0m \u001b[43m    \u001b[49m\u001b[43megfr\u001b[49m\u001b[38;5;241;43m=\u001b[39;49m\u001b[38;5;241;43m70\u001b[39;49m\u001b[43m,\u001b[49m\n\u001b[1;32m     14\u001b[0m \u001b[43m    \u001b[49m\u001b[43mon_htn_meds\u001b[49m\u001b[38;5;241;43m=\u001b[39;49m\u001b[38;5;28;43;01mFalse\u001b[39;49;00m\u001b[43m,\u001b[49m\n\u001b[1;32m     15\u001b[0m \u001b[43m    \u001b[49m\u001b[43mon_cholesterol_meds\u001b[49m\u001b[38;5;241;43m=\u001b[39;49m\u001b[38;5;28;43;01mFalse\u001b[39;49;00m\u001b[43m,\u001b[49m\n\u001b[1;32m     16\u001b[0m \u001b[43m)\u001b[49m\n",
      "File \u001b[0;32m~/miniconda3/envs/pyprevent/lib/python3.10/site-packages/pyprevent/ascvd_calc.py:130\u001b[0m, in \u001b[0;36mcalculate_30_yr_ascvd_risk\u001b[0;34m(sex, age, total_cholesterol, hdl_cholesterol, systolic_bp, has_diabetes, current_smoker, bmi, egfr, on_htn_meds, on_cholesterol_meds)\u001b[0m\n\u001b[1;32m     75\u001b[0m \u001b[38;5;28;01mdef\u001b[39;00m \u001b[38;5;21mcalculate_30_yr_ascvd_risk\u001b[39m(\n\u001b[1;32m     76\u001b[0m     sex: \u001b[38;5;28mstr\u001b[39m,\n\u001b[1;32m     77\u001b[0m     age: \u001b[38;5;28mfloat\u001b[39m,\n\u001b[0;32m   (...)\u001b[0m\n\u001b[1;32m     86\u001b[0m     on_cholesterol_meds: \u001b[38;5;28mbool\u001b[39m,\n\u001b[1;32m     87\u001b[0m ) \u001b[38;5;241m-\u001b[39m\u001b[38;5;241m>\u001b[39m \u001b[38;5;28mfloat\u001b[39m:\n\u001b[1;32m     88\u001b[0m \u001b[38;5;250m    \u001b[39m\u001b[38;5;124;03m\"\"\"\u001b[39;00m\n\u001b[1;32m     89\u001b[0m \u001b[38;5;124;03m    Calculate the 30-year risk of atherosclerotic cardiovascular disease (ASCVD).\u001b[39;00m\n\u001b[1;32m     90\u001b[0m \n\u001b[0;32m   (...)\u001b[0m\n\u001b[1;32m    128\u001b[0m \u001b[38;5;124;03m    # Returns: Estimated 30-year ASCVD risk percentage (e.g., 12.3)\u001b[39;00m\n\u001b[1;32m    129\u001b[0m \u001b[38;5;124;03m    \"\"\"\u001b[39;00m\n\u001b[0;32m--> 130\u001b[0m     \u001b[38;5;28;01mreturn\u001b[39;00m \u001b[43m_pyprevent\u001b[49m\u001b[38;5;241;43m.\u001b[39;49m\u001b[43mcalculate_30_yr_ascvd_rust\u001b[49m\u001b[43m(\u001b[49m\n\u001b[1;32m    131\u001b[0m \u001b[43m        \u001b[49m\u001b[43msex\u001b[49m\u001b[43m,\u001b[49m\n\u001b[1;32m    132\u001b[0m \u001b[43m        \u001b[49m\u001b[43mage\u001b[49m\u001b[43m,\u001b[49m\n\u001b[1;32m    133\u001b[0m \u001b[43m        \u001b[49m\u001b[43mtotal_cholesterol\u001b[49m\u001b[43m,\u001b[49m\n\u001b[1;32m    134\u001b[0m \u001b[43m        \u001b[49m\u001b[43mhdl_cholesterol\u001b[49m\u001b[43m,\u001b[49m\n\u001b[1;32m    135\u001b[0m \u001b[43m        \u001b[49m\u001b[43msystolic_bp\u001b[49m\u001b[43m,\u001b[49m\n\u001b[1;32m    136\u001b[0m \u001b[43m        \u001b[49m\u001b[43mhas_diabetes\u001b[49m\u001b[43m,\u001b[49m\n\u001b[1;32m    137\u001b[0m \u001b[43m        \u001b[49m\u001b[43mcurrent_smoker\u001b[49m\u001b[43m,\u001b[49m\n\u001b[1;32m    138\u001b[0m \u001b[43m        \u001b[49m\u001b[43mbmi\u001b[49m\u001b[43m,\u001b[49m\n\u001b[1;32m    139\u001b[0m \u001b[43m        \u001b[49m\u001b[43megfr\u001b[49m\u001b[43m,\u001b[49m\n\u001b[1;32m    140\u001b[0m \u001b[43m        \u001b[49m\u001b[43mon_htn_meds\u001b[49m\u001b[43m,\u001b[49m\n\u001b[1;32m    141\u001b[0m \u001b[43m        \u001b[49m\u001b[43mon_cholesterol_meds\u001b[49m\u001b[43m,\u001b[49m\n\u001b[1;32m    142\u001b[0m \u001b[43m    \u001b[49m\u001b[43m)\u001b[49m\n",
      "\u001b[0;31mValueError\u001b[0m: Sex must be either 'male' or 'female'."
     ]
    }
   ],
   "source": [
    "pyprevent.calculate_30_yr_ascvd_risk(\n",
    "    \n",
    "    sex=\"unknown\",\n",
    "\n",
    "    \n",
    "    age=40,\n",
    "    total_cholesterol=200,\n",
    "    hdl_cholesterol=50,\n",
    "    systolic_bp=120,\n",
    "    has_diabetes=False,\n",
    "    current_smoker=False,\n",
    "    bmi=25,\n",
    "    egfr=70,\n",
    "    on_htn_meds=False,\n",
    "    on_cholesterol_meds=False,\n",
    ")"
   ]
  },
  {
   "cell_type": "code",
   "execution_count": null,
   "id": "1045af64-7508-4794-ad76-eb63eed89758",
   "metadata": {},
   "outputs": [],
   "source": [
    "pyprevent.calculate_30_yr_ascvd_risk(\n",
    "    sex=\"male\",\n",
    "    \n",
    "    age=10,\n",
    "    \n",
    "    total_cholesterol=200,\n",
    "    hdl_cholesterol=50,\n",
    "    systolic_bp=120,\n",
    "    has_diabetes=False,\n",
    "    current_smoker=False,\n",
    "    bmi=25,\n",
    "    egfr=70,\n",
    "    on_htn_meds=False,\n",
    "    on_cholesterol_meds=False,\n",
    ")"
   ]
  },
  {
   "cell_type": "markdown",
   "id": "8c32707d-20cb-4fd4-b5ca-3b6f9faa7b0f",
   "metadata": {},
   "source": [
    "## Batch Calculations\n",
    "\n",
    "There are also functions to batch apply this function.\n",
    "\n",
    "In our test data set, we have a million patients."
   ]
  },
  {
   "cell_type": "code",
   "execution_count": null,
   "id": "f5fa13ae-ceb9-4bcb-8e79-140116663d93",
   "metadata": {},
   "outputs": [],
   "source": [
    "print(len(df))"
   ]
  },
  {
   "cell_type": "code",
   "execution_count": null,
   "id": "8cce8e31-7b68-4c17-9e98-d0022f37375a",
   "metadata": {},
   "outputs": [],
   "source": [
    "pyprevent.batch_calculate_10_yr_ascvd_risk(df)"
   ]
  },
  {
   "cell_type": "code",
   "execution_count": null,
   "id": "b11ea130-bdcc-4cce-9fd0-209f7366aa8f",
   "metadata": {},
   "outputs": [],
   "source": [
    "start = time.perf_counter()\n",
    "pyprevent.batch_calculate_30_yr_ascvd_risk(df)\n",
    "end = time.perf_counter()\n",
    "duration = end - start\n",
    "print(f\"Time to run 1 million rows: {duration} seconds\")"
   ]
  },
  {
   "cell_type": "markdown",
   "id": "b768cc24-cfbb-452e-bedb-af5b073979a6",
   "metadata": {},
   "source": [
    "## Data validation\n",
    "\n",
    "Again, if a value is invalid, the batch methods will return a ValueError."
   ]
  },
  {
   "cell_type": "code",
   "execution_count": null,
   "id": "e3b392c5-25b5-4640-a4d0-56ea6a56889c",
   "metadata": {},
   "outputs": [],
   "source": [
    "# Setting age to 100.0 near the end of the dataframe\n",
    "df.loc[999_998, \"age\"] = 100.0\n",
    "print(df.iloc[-2])\n",
    "pyprevent.batch_calculate_30_yr_ascvd_risk(df)"
   ]
  },
  {
   "cell_type": "code",
   "execution_count": null,
   "id": "16e7bdc7-0d85-4632-8330-75b07e3414cd",
   "metadata": {},
   "outputs": [],
   "source": [
    "%%timeit\n",
    "test_list = [tup for tup in df.itertuples(index=False)]\n",
    "pyprevent._pyprevent.calculate_10_yr_ascvd_rust_parallel(data=test_list)"
   ]
  },
  {
   "cell_type": "code",
   "execution_count": null,
   "id": "0af365dd-6768-482a-8211-89a2fac4d022",
   "metadata": {},
   "outputs": [],
   "source": []
  },
  {
   "cell_type": "code",
   "execution_count": null,
   "id": "4e805fa3-95c0-49b8-84cc-7f272a8d8e2b",
   "metadata": {},
   "outputs": [],
   "source": [
    "start = time.perf_counter()\n",
    "test_df = df.copy()\n",
    "end = time.perf_counter()\n",
    "duration = end - start\n",
    "print(f\"Time to run 1 million rows: {duration} seconds\")"
   ]
  },
  {
   "cell_type": "code",
   "execution_count": null,
   "id": "8beee114-593b-407d-ac3f-e0eca96f067a",
   "metadata": {},
   "outputs": [],
   "source": [
    "start = time.perf_counter()\n",
    "test_df[\"sex\"] = test_df[\"sex\"].str.lower().map({\"female\": 0, \"male\": 1})\n",
    "end = time.perf_counter()\n",
    "duration = end - start\n",
    "print(f\"Time to run 1 million rows: {duration} seconds\")"
   ]
  },
  {
   "cell_type": "code",
   "execution_count": null,
   "id": "8e2bfad6-b52d-4384-a1c8-a4660a17ba94",
   "metadata": {},
   "outputs": [],
   "source": [
    "start = time.perf_counter()\n",
    "test_df[\n",
    "    [\"has_diabetes\", \"current_smoker\", \"on_htn_meds\", \"on_cholesterol_meds\"]\n",
    "] = test_df[\n",
    "    [\"has_diabetes\", \"current_smoker\", \"on_htn_meds\", \"on_cholesterol_meds\"]\n",
    "].astype(\n",
    "    int\n",
    ")\n",
    "end = time.perf_counter()\n",
    "duration = end - start\n",
    "print(f\"Time to run 1 million rows: {duration} seconds\")"
   ]
  },
  {
   "cell_type": "code",
   "execution_count": null,
   "id": "86e2ea3c-0796-4422-bc9b-3f63fde1bf1d",
   "metadata": {},
   "outputs": [],
   "source": [
    "start = time.perf_counter()\n",
    "data = test_df.values.astype(np.float64)\n",
    "end = time.perf_counter()\n",
    "duration = end - start\n",
    "print(f\"Time to run 1 million rows: {duration} seconds\")"
   ]
  },
  {
   "cell_type": "code",
   "execution_count": null,
   "id": "8cde4e19-3e7e-4212-b3c3-0f738bc53951",
   "metadata": {},
   "outputs": [],
   "source": [
    "start = time.perf_counter()\n",
    "r = pyprevent._pyprevent.calculate_10_yr_ascvd_rust_parallel_np(data=data)\n",
    "end = time.perf_counter()\n",
    "duration = end - start\n",
    "print(f\"Time to run 1 million rows: {duration} seconds\")"
   ]
  },
  {
   "cell_type": "code",
   "execution_count": null,
   "id": "737ceb1d-f769-4b61-b26b-6e059a9fbb2e",
   "metadata": {},
   "outputs": [],
   "source": [
    "%%timeit\n",
    "test_df = df.copy()\n",
    "test_df[\"sex\"] = test_df[\"sex\"].str.lower().map({\"female\": 0, \"male\": 1})\n",
    "test_df[\n",
    "    [\"has_diabetes\", \"current_smoker\", \"on_htn_meds\", \"on_cholesterol_meds\"]\n",
    "] = test_df[\n",
    "    [\"has_diabetes\", \"current_smoker\", \"on_htn_meds\", \"on_cholesterol_meds\"]\n",
    "].astype(\n",
    "    int\n",
    ")\n",
    "data = test_df.values.astype(np.float64)\n",
    "r = pyprevent._pyprevent.calculate_10_yr_ascvd_rust_parallel_np(data=data)"
   ]
  },
  {
   "cell_type": "code",
   "execution_count": null,
   "id": "0c34c71c-eaac-415b-af0c-40a9f2c8a583",
   "metadata": {},
   "outputs": [],
   "source": [
    "%%timeit\n",
    "test_df = df.copy()\n",
    "test_df[\"sex\"] = test_df[\"sex\"].str.lower().map({\"female\": 0, \"male\": 1})\n",
    "data = test_df.values.astype(np.float64)\n",
    "r = pyprevent._pyprevent.calculate_10_yr_ascvd_rust_parallel_np(data=data)"
   ]
  },
  {
   "cell_type": "code",
   "execution_count": 7,
   "id": "1a4b07d7-b4ad-4962-85bc-54fa7c782709",
   "metadata": {},
   "outputs": [],
   "source": [
    "import math\n",
    "\n",
    "\n",
    "def calculate_10_yr_ascvd_risk_py(\n",
    "    sex,\n",
    "    age,\n",
    "    total_cholesterol,\n",
    "    hdl_cholesterol,\n",
    "    systolic_bp,\n",
    "    has_diabetes,\n",
    "    current_smoker,\n",
    "    bmi,\n",
    "    egfr,\n",
    "    on_htn_meds,\n",
    "    on_cholesterol_meds,\n",
    "):\n",
    "    # Input validation\n",
    "    if not 30.0 <= age <= 79.0:\n",
    "        return \"Age must be between 30 and 79\"\n",
    "    if not 130.0 <= total_cholesterol <= 320.0:\n",
    "        return \"Total cholesterol must be between 130 and 320\"\n",
    "    if not 20.0 <= hdl_cholesterol <= 100.0:\n",
    "        return \"HDL cholesterol must be between 20 and 100\"\n",
    "    if not 90.0 <= systolic_bp <= 200.0:\n",
    "        return \"Systolic blood pressure must be between 90 and 200\"\n",
    "    if not 18.5 <= bmi <= 39.9:\n",
    "        return \"BMI must be between 18.5 and 39.9\"\n",
    "    if not 15.0 <= egfr <= 140.0:\n",
    "        return \"eGFR must be between 15 and 140\"\n",
    "\n",
    "    cholesterol_diff = total_cholesterol - hdl_cholesterol\n",
    "    age_adjusted = (age - 55.0) / 10.0\n",
    "\n",
    "    if sex.lower() == \"female\":\n",
    "        diabetes_factor = 0.8348585 if has_diabetes else 0.0\n",
    "        smoker_factor = 0.4831078 if current_smoker else 0.0\n",
    "        htn_meds_factor = 0.2265309 if on_htn_meds else 0.0\n",
    "        htn_cholesterol_treatment_factor = 0.0592374 if on_cholesterol_meds else 0.0\n",
    "        systolic_bp_adjusted_max = (max(systolic_bp, 110.0) - 130.0) / 20.0\n",
    "        cholesterol_diff_factor = 0.02586 * cholesterol_diff - 3.5\n",
    "\n",
    "        diabetes_age_factor = 0.2417542 * age_adjusted if has_diabetes else 0.0\n",
    "        smoker_age_factor = 0.0791142 * age_adjusted if current_smoker else 0.0\n",
    "\n",
    "        calculation = (\n",
    "            0.719883 * age_adjusted\n",
    "            - 3.819975\n",
    "            + 0.1176967 * cholesterol_diff_factor\n",
    "            - 0.151185 * (0.02586 * hdl_cholesterol - 1.3) / 0.3\n",
    "            - 0.0835358 * (min(systolic_bp, 110.0) - 110.0) / 20.0\n",
    "            + 0.3592852 * systolic_bp_adjusted_max\n",
    "            + diabetes_factor\n",
    "            + smoker_factor\n",
    "            + 0.4864619 * (min(egfr, 60.0) - 60.0) / -15.0\n",
    "            + 0.0397779 * (max(egfr, 60.0) - 90.0) / -15.0\n",
    "            + htn_meds_factor\n",
    "            - htn_cholesterol_treatment_factor\n",
    "            - (0.0395762 * systolic_bp_adjusted_max if on_htn_meds else 0.0)\n",
    "            + (0.0844423 * cholesterol_diff_factor if on_cholesterol_meds else 0.0)\n",
    "            - 0.0567839 * age_adjusted * cholesterol_diff_factor\n",
    "            + 0.0325692 * age_adjusted * (0.02586 * hdl_cholesterol - 1.3) / 0.3\n",
    "            - 0.1035985 * age_adjusted * systolic_bp_adjusted_max\n",
    "            - diabetes_age_factor\n",
    "            - smoker_age_factor\n",
    "            - 0.1671492 * age_adjusted * (min(egfr, 60.0) - 60.0) / -15.0\n",
    "        )\n",
    "\n",
    "    elif sex.lower() == \"male\":\n",
    "        diabetes_factor = 0.7189597 if has_diabetes else 0.0\n",
    "        smoker_factor = 0.3956973 if current_smoker else 0.0\n",
    "        htn_meds_factor = 0.2036522 if on_htn_meds else 0.0\n",
    "        htn_cholesterol_treatment_factor = 0.0865581 if on_cholesterol_meds else 0.0\n",
    "        systolic_bp_adjusted_max = (max(systolic_bp, 110.0) - 130.0) / 20.0\n",
    "        cholesterol_diff_factor = 0.02586 * cholesterol_diff - 3.5\n",
    "\n",
    "        diabetes_age_factor = 0.2018525 * age_adjusted if has_diabetes else 0.0\n",
    "        smoker_age_factor = 0.0970527 * age_adjusted if current_smoker else 0.0\n",
    "\n",
    "        calculation = (\n",
    "            0.7099847 * age_adjusted\n",
    "            - 3.500655\n",
    "            + 0.1658663 * cholesterol_diff_factor\n",
    "            - 0.1144285 * (0.02586 * hdl_cholesterol - 1.3) / 0.3\n",
    "            - 0.2837212 * (min(systolic_bp, 110.0) - 110.0) / 20.0\n",
    "            + 0.3239977 * systolic_bp_adjusted_max\n",
    "            + diabetes_factor\n",
    "            + smoker_factor\n",
    "            + 0.3690075 * (min(egfr, 60.0) - 60.0) / -15.0\n",
    "            + 0.0203619 * (max(egfr, 60.0) - 90.0) / -15.0\n",
    "            + htn_meds_factor\n",
    "            - htn_cholesterol_treatment_factor\n",
    "            - (0.0322916 * systolic_bp_adjusted_max if on_htn_meds else 0.0)\n",
    "            + (0.114563 * cholesterol_diff_factor if on_cholesterol_meds else 0.0)\n",
    "            - 0.0300005 * age_adjusted * cholesterol_diff_factor\n",
    "            + 0.0232747 * age_adjusted * (0.02586 * hdl_cholesterol - 1.3) / 0.3\n",
    "            - 0.0927024 * age_adjusted * systolic_bp_adjusted_max\n",
    "            - diabetes_age_factor\n",
    "            - smoker_age_factor\n",
    "            - 0.1217081 * age_adjusted * (min(egfr, 60.0) - 60.0) / -15.0\n",
    "        )\n",
    "\n",
    "    else:\n",
    "        return \"Sex must be either 'male' or 'female'.\"\n",
    "\n",
    "    risk_score = math.exp(calculation) / (1.0 + math.exp(calculation)) * 100.0\n",
    "    return risk_score"
   ]
  },
  {
   "cell_type": "code",
   "execution_count": null,
   "id": "5c72152b-f460-4c5a-9d94-e2625dcf1ec7",
   "metadata": {},
   "outputs": [],
   "source": []
  },
  {
   "cell_type": "code",
   "execution_count": 8,
   "id": "8c3ce9f9-594d-43a3-af67-a6f3349bb904",
   "metadata": {},
   "outputs": [
    {
     "name": "stdout",
     "output_type": "stream",
     "text": [
      "Time to run Pure Python Implementation: 18.800785583007382 seconds\n"
     ]
    }
   ],
   "source": [
    "start = time.perf_counter()\n",
    "for row in df.itertuples(index=False):\n",
    "    calculate_10_yr_ascvd_risk_py(*row)\n",
    "end = time.perf_counter()\n",
    "py_duration = end - start\n",
    "print(f\"Time to run Pure Python Implementation: {py_duration} seconds\")"
   ]
  },
  {
   "cell_type": "code",
   "execution_count": 9,
   "id": "657607b1-95da-40e0-b857-2c4254c1137e",
   "metadata": {},
   "outputs": [
    {
     "name": "stdout",
     "output_type": "stream",
     "text": [
      "Time to run Current Implementation: 8.53280437499052 seconds\n"
     ]
    }
   ],
   "source": [
    "start = time.perf_counter()\n",
    "pyprevent.batch_calculate_30_yr_ascvd_risk(df)\n",
    "end = time.perf_counter()\n",
    "current_duration = end - start\n",
    "print(f\"Time to run Current Implementation: {current_duration} seconds\")"
   ]
  },
  {
   "cell_type": "code",
   "execution_count": 10,
   "id": "021fc071-3b89-4509-8591-cdc5f37a2f30",
   "metadata": {},
   "outputs": [
    {
     "name": "stdout",
     "output_type": "stream",
     "text": [
      "Time to run Rust Parallel Implementation: 2.22986929200124 seconds\n"
     ]
    }
   ],
   "source": [
    "start = time.perf_counter()\n",
    "test_df = df.copy()\n",
    "test_df[\"sex\"] = test_df[\"sex\"].str.lower().map({\"female\": 0, \"male\": 1})\n",
    "test_df[\n",
    "    [\"has_diabetes\", \"current_smoker\", \"on_htn_meds\", \"on_cholesterol_meds\"]\n",
    "] = test_df[\n",
    "    [\"has_diabetes\", \"current_smoker\", \"on_htn_meds\", \"on_cholesterol_meds\"]\n",
    "].astype(\n",
    "    int\n",
    ")\n",
    "data = test_df.values.astype(np.float64)\n",
    "r = pyprevent._pyprevent.calculate_10_yr_ascvd_rust_parallel_np(data=data)\n",
    "end = time.perf_counter()\n",
    "rust_parallel = end - start\n",
    "print(f\"Time to run Rust Parallel Implementation: {rust_parallel} seconds\")"
   ]
  },
  {
   "cell_type": "code",
   "execution_count": 11,
   "id": "3010eaaa-addf-4afb-904e-aa6f95275e08",
   "metadata": {},
   "outputs": [
    {
     "data": {
      "text/plain": [
       "8.431339742848447"
      ]
     },
     "execution_count": 11,
     "metadata": {},
     "output_type": "execute_result"
    }
   ],
   "source": [
    "py_duration / rust_parallel"
   ]
  },
  {
   "cell_type": "code",
   "execution_count": null,
   "id": "0b8753ec-3149-477b-8113-a6e10334dfe7",
   "metadata": {},
   "outputs": [],
   "source": [
    "start = time.perf_counter()\n",
    "test_df = df.copy()\n",
    "test_df[\"sex\"] = test_df[\"sex\"].str.lower().map({\"female\": 0, \"male\": 1})\n",
    "test_df[\n",
    "    [\"has_diabetes\", \"current_smoker\", \"on_htn_meds\", \"on_cholesterol_meds\"]\n",
    "] = test_df[\n",
    "    [\"has_diabetes\", \"current_smoker\", \"on_htn_meds\", \"on_cholesterol_meds\"]\n",
    "].astype(\n",
    "    int\n",
    ")\n",
    "data = test_df.values.astype(np.float64)\n",
    "r = pyprevent._pyprevent.calculate_10_yr_ascvd_rust_parallel_np(data=data)\n",
    "end = time.perf_counter()\n",
    "rust_parallel = end - start\n",
    "print(f\"Time to run Rust Parallel Implementation: {rust_parallel} seconds\")"
   ]
  },
  {
   "cell_type": "code",
   "execution_count": null,
   "id": "d1f5a806-4a1f-4be7-84b9-66553f105ccf",
   "metadata": {},
   "outputs": [],
   "source": [
    "start = time.perf_counter()\n",
    "test_df = df.copy()\n",
    "data = [row for row in test_df.itertuples(index=False)]\n",
    "\n",
    "r = pyprevent._pyprevent.calculate_10_yr_ascvd_rust_parallel(data=data)\n",
    "end = time.perf_counter()\n",
    "rust_parallel = end - start\n",
    "print(f\"Time to run Rust Parallel Implementation: {rust_parallel} seconds\")"
   ]
  },
  {
   "cell_type": "code",
   "execution_count": null,
   "id": "57933ce2-1677-4baf-a592-a788ff9d3bd9",
   "metadata": {},
   "outputs": [],
   "source": []
  },
  {
   "cell_type": "code",
   "execution_count": null,
   "id": "a847a8ca-2258-4943-b231-3a83f90032b1",
   "metadata": {},
   "outputs": [],
   "source": []
  }
 ],
 "metadata": {
  "kernelspec": {
   "display_name": "Python 3 (ipykernel)",
   "language": "python",
   "name": "python3"
  },
  "language_info": {
   "codemirror_mode": {
    "name": "ipython",
    "version": 3
   },
   "file_extension": ".py",
   "mimetype": "text/x-python",
   "name": "python",
   "nbconvert_exporter": "python",
   "pygments_lexer": "ipython3",
   "version": "3.10.13"
  }
 },
 "nbformat": 4,
 "nbformat_minor": 5
}
